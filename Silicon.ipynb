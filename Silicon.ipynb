{
 "cells": [
  {
   "cell_type": "code",
   "execution_count": 1,
   "metadata": {},
   "outputs": [
    {
     "data": {
      "application/javascript": [
       "require.undef(\"nbextensions/vpython_libraries/glow.min\");"
      ],
      "text/plain": [
       "<IPython.core.display.Javascript object>"
      ]
     },
     "metadata": {},
     "output_type": "display_data"
    },
    {
     "data": {
      "application/javascript": [
       "require.undef(\"nbextensions/vpython_libraries/glowcomm\");"
      ],
      "text/plain": [
       "<IPython.core.display.Javascript object>"
      ]
     },
     "metadata": {},
     "output_type": "display_data"
    },
    {
     "data": {
      "application/javascript": [
       "require.undef(\"nbextensions/vpython_libraries/jquery-ui.custom.min\");"
      ],
      "text/plain": [
       "<IPython.core.display.Javascript object>"
      ]
     },
     "metadata": {},
     "output_type": "display_data"
    },
    {
     "data": {
      "application/javascript": [
       "require([\"nbextensions/vpython_libraries/glow.min\"], function(){console.log(\"GLOW LOADED\");})"
      ],
      "text/plain": [
       "<IPython.core.display.Javascript object>"
      ]
     },
     "metadata": {},
     "output_type": "display_data"
    },
    {
     "data": {
      "application/javascript": [
       "require([\"nbextensions/vpython_libraries/glowcomm\"], function(){console.log(\"GLOWCOMM LOADED\");})"
      ],
      "text/plain": [
       "<IPython.core.display.Javascript object>"
      ]
     },
     "metadata": {},
     "output_type": "display_data"
    },
    {
     "data": {
      "application/javascript": [
       "require([\"nbextensions/vpython_libraries/jquery-ui.custom.min\"], function(){console.log(\"JQUERY LOADED\");})"
      ],
      "text/plain": [
       "<IPython.core.display.Javascript object>"
      ]
     },
     "metadata": {},
     "output_type": "display_data"
    },
    {
     "data": {
      "text/html": [
       "<div id=\"glowscript\" class=\"glowscript\"></div>"
      ],
      "text/plain": [
       "<IPython.core.display.HTML object>"
      ]
     },
     "metadata": {},
     "output_type": "display_data"
    },
    {
     "data": {
      "application/javascript": [
       "window.__context = { glowscript_container: $(\"#glowscript\").removeAttr(\"id\")}"
      ],
      "text/plain": [
       "<IPython.core.display.Javascript object>"
      ]
     },
     "metadata": {},
     "output_type": "display_data"
    },
    {
     "data": {
      "application/vnd.jupyter.widget-view+json": {
       "model_id": "66e480e0207449acaf6a6f342b4b9a48",
       "version_major": 2,
       "version_minor": 0
      },
      "text/plain": [
       "Button(description='KOH etch', style=ButtonStyle())"
      ]
     },
     "metadata": {},
     "output_type": "display_data"
    },
    {
     "data": {
      "application/vnd.jupyter.widget-view+json": {
       "model_id": "d944eb9c8c9c47d4acff8ea625c21e39",
       "version_major": 2,
       "version_minor": 0
      },
      "text/plain": [
       "Button(description='hide_bonds', style=ButtonStyle())"
      ]
     },
     "metadata": {},
     "output_type": "display_data"
    },
    {
     "name": "stdout",
     "output_type": "stream",
     "text": [
      "70.52877936550931\n"
     ]
    }
   ],
   "source": [
    "from vpython import *\n",
    "import math\n",
    "from ipywidgets import widgets\n",
    "\n",
    "#GlowScript 2.7 VPython\n",
    "\n",
    "N =3 # N by N by N array of atoms\n",
    "\n",
    "spacing = 1\n",
    "atom_radius = 0.1*spacing\n",
    "\n",
    "axes = [vector(1,0,0), vector(0,1,0), vector(0,0,1)]\n",
    "\n",
    "scene.caption= \"\"\"A model of a solid represented as atoms connected by interatomic bonds.\n",
    "\n",
    "Right button drag or Ctrl-drag to rotate \"camera\" to view scene.\n",
    "To zoom, drag with middle button or Alt/Option depressed, or use scroll wheel.\n",
    "  On a two-button mouse, middle is left + right.\n",
    "Shift-drag to pan left/right and up/down.\n",
    "Touch screen: pinch/extend to zoom, swipe or two-finger rotate.\"\"\"\n",
    "\n",
    "class crystal:\n",
    "        \n",
    "    def __init__(self,  N, atom_radius, spacing, \n",
    "                 atom_color=color.white, beam_color=color.blue, beam=1):\n",
    "        self.atoms = []\n",
    "        self.beams = []  \n",
    "        self.bonds = []\n",
    "        self.make_silicon(N, spacing, atom_radius)\n",
    "                           \n",
    "    def make_simple_cubic(self, N, spacing, atom_radius):  \n",
    "        # create the atoms for a cubic grid; \n",
    "        for z in range(-1*N,N+1,1):\n",
    "            for y in range(-1*N,N+1,1):\n",
    "                for x in range(-1*N,N+1,1):\n",
    "                    self.make_atom(vector(x,y,z) * spacing, atom_radius)\n",
    "    \n",
    "    def make_face_centered_cubic(self, N, spacing, atom_radius):\n",
    "        self.make_simple_cubic(N, spacing, atom_radius)\n",
    "        # add atoms for the centers of the faces (face-centered cube)\n",
    "        for c in range(-1*N,N+1,1):\n",
    "            for b in range(-1*N,N,1):\n",
    "                for a in range(-1*N,N,1):\n",
    "                    self.make_atom(vector(a+0.5, b+0.5, c    ) * spacing, atom_radius)\n",
    "                    self.make_atom(vector(a+0.5, c,     b+0.5) * spacing, atom_radius)\n",
    "                    self.make_atom(vector(c,     a+0.5, b+0.5) * spacing, atom_radius)        \n",
    "\n",
    "    def make_grid(self, N, spacing):\n",
    "        for b in range(-1*N,N+1,1):\n",
    "            for a in range(-1*N,N+1,1):\n",
    "                self.make_beam(vector(a, b, -1*N)* spacing, vector(a, b, N)* spacing, 0.01)\n",
    "                self.make_beam(vector(-1*N, a, b)* spacing,  vector(N, a, b)* spacing, 0.01)\n",
    "                self.make_beam(vector(b, -1*N, a)* spacing, vector(b, N, a)* spacing, 0.01)\n",
    "    \n",
    "    def make_bonds(self):\n",
    "        for atom_a in self.atoms:\n",
    "            for atom_b in self.atoms :\n",
    "                delta_x= abs(atom_a.pos.x - atom_b.pos.x) \n",
    "                delta_y= abs(atom_a.pos.y - atom_b.pos.y) \n",
    "                delta_z= abs(atom_a.pos.z - atom_b.pos.z) \n",
    "                if ((delta_x == 0.25 * spacing) and \n",
    "                    (delta_y == 0.25 * spacing) and\n",
    "                    (delta_z == 0.25 * spacing)):\n",
    "                        bond = cylinder()\n",
    "                        bond.pos = atom_a.pos\n",
    "                        bond.axis =(atom_b.pos-atom_a.pos)\n",
    "                        bond.radius= 0.02\n",
    "                        bond.color = color.yellow\n",
    "                        self.bonds.append(bond)\n",
    "    \n",
    "    def make_silicon (self, N, spacing, atom_radius):\n",
    "        # silicon has two interpenetrating face-centered cubic\" primitive lattices.\n",
    "        # one is shifted 0.25 spacing in all directions\n",
    "        self.make_face_centered_cubic(N, spacing, atom_radius)\n",
    "        for atom in self.atoms:\n",
    "            atom.pos= atom.pos + vector(0.25*spacing, 0.25*spacing, 0.25*spacing)\n",
    "        self.make_face_centered_cubic(N, spacing, atom_radius)\n",
    "        self.make_grid(N, spacing)\n",
    "        self.make_bonds()\n",
    "                    \n",
    "    def make_atom(self, pos, radius, atom_color=color.white):\n",
    "        atom = sphere()\n",
    "        atom.pos = pos\n",
    "        atom.radius = radius \n",
    "        atom.color = atom_color\n",
    "        self.atoms.append(atom)\n",
    "           \n",
    "    def make_beam(self, start, end, radius, beam_color=color.blue):\n",
    "        beam = cylinder()\n",
    "        beam.pos = start\n",
    "        beam.axis =(end-start)\n",
    "        beam.radius= radius\n",
    "        beam.color = beam_color\n",
    "\n",
    "def etch(b):\n",
    "    koh_etch(spacing)\n",
    "    \n",
    "def koh_etch(spacing):\n",
    "    def in_v_groove(pos):\n",
    "        #one plane is given by -x1-x2+x3=0\n",
    "        #snd plane is given by  x1-x2-x3=0\n",
    "        return ( 0 - pos.x - pos.y + pos.z < 0) and (pos.x-pos.y-pos.z <0)    \n",
    "        \n",
    "    etch_mat=[]\n",
    "    etch_mat_y=[]\n",
    "    for bond in c1.bonds:\n",
    "\n",
    "        if in_v_groove(bond.pos):\n",
    "            etch_mat.append(bond)\n",
    "            etch_mat_y.append(bond.pos.y)\n",
    "        else:\n",
    "            if in_v_groove(bond.pos+bond.axis):\n",
    "                etch_mat.append(bond)\n",
    "                etch_mat_y.append(bond.pos.y)\n",
    "    for atom in c1.atoms:\n",
    "        if in_v_groove(atom.pos):\n",
    "            etch_mat.append(atom)\n",
    "            etch_mat_y.append(bond.pos.y)\n",
    "    for mat in etch_mat:\n",
    "        mat.visible=False\n",
    "    \n",
    "\n",
    "\n",
    "def hide_bonds(b):\n",
    "    for b in c1.bonds :\n",
    "        b.visible= False\n",
    "            \n",
    "button=widgets.Button(description=\"KOH etch\")\n",
    "display(button)   \n",
    "button.on_click(etch)\n",
    "\n",
    "bt_hide_bonds=widgets.Button(description=\"hide_bonds\")\n",
    "display(bt_hide_bonds)   \n",
    "bt_hide_bonds.on_click(hide_bonds)\n",
    "\n",
    "c1 = crystal(N, atom_radius, spacing)\n",
    "\n",
    "q1= vertex(pos=vector(-1*N,0, -1*N))\n",
    "q2= vertex(pos=vector(0,N,  -1*N))\n",
    "q3= vertex(pos=vector(N,   N, 0))\n",
    "q4= vertex(pos=vector(N,   0, N))\n",
    "arrQ= [q1, q2,q3, q4]\n",
    "\n",
    "for i in range(3):\n",
    "    arrQ[i].color=color.red\n",
    "    arrQ[i].opacity=0.5\n",
    "mid= quad(vs=arrQ)\n",
    "\n",
    "pt=vector(-1*N,0,N)\n",
    "p1= vertex(pos=vector(N,0,N))\n",
    "p2= vertex(pos=vector(0,N,N))\n",
    "p3= vertex(pos=vector(-1*N,N,0))\n",
    "p4= vertex(pos=vector(-1*N,0,-1*N))\n",
    "arrP= [p1, p2, p3, p4]\n",
    "for i in range(4):\n",
    "    arrP[i].color=color.green\n",
    "    arrP[i].opacity=0.5\n",
    "mid= quad(vs=arrP)\n",
    "\n",
    "\n",
    "blaze= math.degrees((vector(1,1,1)).diff_angle(vector(1,1,-1)))\n",
    "print(blaze)\n"
   ]
  },
  {
   "cell_type": "code",
   "execution_count": 2,
   "metadata": {},
   "outputs": [],
   "source": [
    "for atom in c1.atoms :\n",
    "    atom.visible= True\n",
    "    atom.color=color.white\n"
   ]
  },
  {
   "cell_type": "code",
   "execution_count": 2,
   "metadata": {},
   "outputs": [],
   "source": [
    "from sympy import Point, Point3D, Line, Line3D, Plane\n",
    "plane_1_1_1 = Plane(Point3D(N,0,N), normal_vector=(-1, -1, 1))\n",
    "plane_1_1_m1 = Plane(Point3D(-1*N,0,-1*N), normal_vector=(1, -1, -1))\n",
    "\n",
    "for atom in c1.atoms:\n",
    "    rate(10)\n",
    "    b = Point3D(atom.pos.x,atom.pos.y, atom.pos.z)\n",
    "    proj_A= plane_1_1_1.projection(b)\n",
    "    t= atom.pos - vector(proj_A.x, proj_A.y, proj_A.z)\n",
    "    alfa=math.degrees(vector(-1,-1,1).diff_angle(t))\n",
    "    \n",
    "    proj_B= plane_1_1_m1.projection(b)\n",
    "    t= atom.pos - vector(proj_B.x, proj_B.y, proj_B.z)\n",
    "    beta=math.degrees(vector(1,-1,-1).diff_angle(t))\n",
    "    \n",
    "    if alfa>170 and beta >170:\n",
    "        #atom.visible= False\n",
    "        atom.visible=False\n",
    "        \n"
   ]
  },
  {
   "cell_type": "code",
   "execution_count": 6,
   "metadata": {},
   "outputs": [
    {
     "name": "stdout",
     "output_type": "stream",
     "text": [
      "sqrt(3)\n"
     ]
    }
   ],
   "source": [
    "from sympy import Point, Point3D, Line, Line3D, Plane\n",
    "a = Plane(Point3D(1, 1, 1), normal_vector=(1, 1, 1))\n",
    "b = Point3D(1, 2, 3)\n",
    "print(a.distance(b))"
   ]
  },
  {
   "cell_type": "code",
   "execution_count": 23,
   "metadata": {},
   "outputs": [
    {
     "name": "stdout",
     "output_type": "stream",
     "text": [
      "Point3D(4/3, 4/3, -4/3)\n",
      "180.0\n",
      "0.0\n"
     ]
    }
   ],
   "source": [
    "from sympy import Plane, Point, Point3D\n",
    "A = Plane(Point3D(-2*N, 0, 0), normal_vector=(-1, -1, 1))\n",
    "b = Point3D(-1*N,3*N,2*N)\n",
    "\n",
    "proj=A.projection(b)\n",
    "print(b-proj)\n",
    "t= vector(-1*N,3*N,2*N)-vector(proj.x,proj.y,proj.z)\n",
    "print(math.degrees(vector(-1,-1,1).diff_angle(t)))\n",
    "\n",
    "print(math.degrees(vector(-1,-1,1).diff_angle(-1*t)))\n"
   ]
  },
  {
   "cell_type": "code",
   "execution_count": 3,
   "metadata": {},
   "outputs": [
    {
     "name": "stdout",
     "output_type": "stream",
     "text": [
      "<1, -1, -1>\n"
     ]
    }
   ],
   "source": [
    "print(vector(-1,-1,0).cross(vector(-1,0,-1)))"
   ]
  },
  {
   "cell_type": "code",
   "execution_count": 3,
   "metadata": {},
   "outputs": [],
   "source": [
    "for b in c1.bonds :\n",
    "    b.visible= False\n"
   ]
  },
  {
   "cell_type": "code",
   "execution_count": null,
   "metadata": {},
   "outputs": [],
   "source": []
  }
 ],
 "metadata": {
  "kernelspec": {
   "display_name": "VPython",
   "language": "python",
   "name": "vpython"
  },
  "language_info": {
   "codemirror_mode": {
    "name": "ipython",
    "version": 3
   },
   "file_extension": ".py",
   "mimetype": "text/x-python",
   "name": "python",
   "nbconvert_exporter": "python",
   "pygments_lexer": "ipython3",
   "version": "3.6.5"
  }
 },
 "nbformat": 4,
 "nbformat_minor": 2
}
